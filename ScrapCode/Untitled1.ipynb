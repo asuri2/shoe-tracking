{
 "cells": [
  {
   "cell_type": "code",
   "execution_count": null,
   "metadata": {},
   "outputs": [],
   "source": [
    "import sys, os, glob\n",
    "import cv2\n",
    "import numpy as np\n",
    "import pickle\n",
    "import matplotlib.pyplot as plt\n",
    "%matplotlib inline"
   ]
  },
  {
   "cell_type": "code",
   "execution_count": null,
   "metadata": {},
   "outputs": [],
   "source": [
    "counter = 0\n",
    "root = 'C:\\\\Users\\\\Abhishek\\\\Desktop\\\\ChatBot\\\\poc\\\\ut-zap50k-images-square'\n",
    "data = []\n",
    "os.chdir(root)\n",
    "print(\"In:\",os.getcwd())\n",
    "for dirs1 in os.listdir(root):\n",
    "#     print(dirs1)\n",
    "    path1 = root+\"\\\\\"+dirs1\n",
    "    for dirs2 in os.listdir(path1):\n",
    "#         print(dirs2)\n",
    "        path2 = path1 + \"\\\\\" + dirs2\n",
    "        for dirs3 in os.listdir(path2):\n",
    "#             print(dirs3)\n",
    "            path3 = path2 + \"\\\\\" + dirs3\n",
    "            for jpg in os.listdir(path3):                \n",
    "#                 print(counter)\n",
    "                path4 = path3+\"\\\\\"+jpg\n",
    "                img = cv2.imread(path4)\n",
    "#                 img = cv2.resize(img, (0,0), fx=0.5, fy=0.5) \n",
    "#                 print(img.shape)\n",
    "#                 img1=img[np.newaxis,:]\n",
    "#                 print(img.shape)\n",
    "#                 data[counter][0]=counter\n",
    "#                 data[counter][1]=np.copy(img)\n",
    "                if img is not None:\n",
    "                    img = cv2.resize(img, (56, 56))\n",
    "                    img=img.astype('float32')\n",
    "                    img=img/255\n",
    "                    counter = counter + 1\n",
    "                    data.append(img)\n",
    "#                 print(path3+\"\\\\\"+jpg)\n",
    "print(counter)"
   ]
  },
  {
   "cell_type": "code",
   "execution_count": null,
   "metadata": {},
   "outputs": [],
   "source": [
    "import matplotlib.pyplot as plt\n",
    "%matplotlib inline\n",
    "\n",
    "print(data[0].shape)\n",
    "plt.imshow(data[0])"
   ]
  },
  {
   "cell_type": "code",
   "execution_count": null,
   "metadata": {
    "scrolled": true
   },
   "outputs": [],
   "source": [
    "counter = 0\n",
    "filename = 'shoes'\n",
    "batch_number = 1\n",
    "for j in range(0,len(data)):      \n",
    "    print(\"making batch : \",batch_number)\n",
    "    print(\"record number : \",counter)\n",
    "    if counter < len(data) and data[0].shape==data[counter].shape:\n",
    "        data1 = data[counter][np.newaxis,:]\n",
    "        counter=counter+1\n",
    "        for i in range(1,2000):\n",
    "#             print(i)\n",
    "#             print(counter)\n",
    "            if counter < len(data) and data[0].shape==data[counter].shape:\n",
    "                img=data[counter][np.newaxis,:]\n",
    "            #         print(img.shape)\n",
    "                data1=np.vstack((data1,img))\n",
    "            counter = counter + 1\n",
    "        outfile = open(\"C:\\\\Users\\\\Abhishek\\\\Desktop\\\\ChatBot\\\\data\\\\\"+filename+\"_\"+str(batch_number),'wb')\n",
    "        batch_number = batch_number + 1\n",
    "        pickle.dump(data1,outfile)\n",
    "        outfile.close()\n",
    "        print(data1.shape)"
   ]
  },
  {
   "cell_type": "code",
   "execution_count": null,
   "metadata": {},
   "outputs": [],
   "source": [
    "file_1 = open(\"C:\\\\Users\\\\Abhishek\\\\Desktop\\\\ChatBot\\\\data\\\\shoes_1\",'rb')\n",
    "data_1=pickle.load(file_1)\n",
    "file_1.close()\n",
    "file_2 = open(\"C:\\\\Users\\\\Abhishek\\\\Desktop\\\\ChatBot\\\\data\\\\shoes_2\",'rb')\n",
    "data_2=pickle.load(file_2)\n",
    "file_2.close()"
   ]
  },
  {
   "cell_type": "code",
   "execution_count": null,
   "metadata": {},
   "outputs": [],
   "source": [
    "plt.imshow(data_1[800])"
   ]
  },
  {
   "cell_type": "code",
   "execution_count": null,
   "metadata": {},
   "outputs": [],
   "source": [
    "plt.imshow(data_2[800])"
   ]
  },
  {
   "cell_type": "code",
   "execution_count": null,
   "metadata": {},
   "outputs": [],
   "source": [
    "filename = 'shoes'\n",
    "initfile = open(\"C:\\\\Users\\\\Abhishek\\\\Desktop\\\\ChatBot\\\\data\\\\\"+filename+\"_15\",'rb')\n",
    "data_f=pickle.load(initfile)\n",
    "print(data_f.shape)\n",
    "for j in range(16, 27, 1):\n",
    "    print(j)\n",
    "    infile = open(\"C:\\\\Users\\\\Abhishek\\\\Desktop\\\\ChatBot\\\\data\\\\\"+filename+\"_\"+str(j),'rb')\n",
    "    dt = pickle.load(infile)\n",
    "    data_f=np.vstack((data_f,dt))\n",
    "    print(data_f.shape)\n",
    "print(\"shuffling\")\n",
    "np.random.shuffle(data_f)\n",
    "print(data_f.shape)\n",
    "full_datafile = \"shoes_full_2\"\n",
    "outfile = open(\"C:\\\\Users\\\\Abhishek\\\\Desktop\\\\ChatBot\\\\data\\\\norm_\"+full_datafile,'wb')\n",
    "print(\"dumping\")\n",
    "pickle.dump(data_f,outfile, protocol=2)\n",
    "outfile.close()\n",
    "print(\"dumped\")"
   ]
  },
  {
   "cell_type": "code",
   "execution_count": null,
   "metadata": {},
   "outputs": [],
   "source": [
    "print(\"Reading\")\n",
    "file_1 = open(\"C:\\\\Users\\\\Abhishek\\\\Desktop\\\\ChatBot\\\\data\\\\norm_shoes_full_1\",'rb')\n",
    "data_1=pickle.load(file_1)\n",
    "file_1.close()\n",
    "file_2 = open(\"C:\\\\Users\\\\Abhishek\\\\Desktop\\\\ChatBot\\\\data\\\\norm_shoes_full_2\",'rb')\n",
    "data_2=pickle.load(file_2)\n",
    "file_2.close()\n",
    "print(\"Stacking...\")\n",
    "shoe_data = np.vstack((data_1,data_2))\n",
    "print(shoe_data.shape)\n",
    "outfile = open(\"C:\\\\Users\\\\Abhishek\\\\Desktop\\\\ChatBot\\\\data\\\\norm_shoe_pickle_full\",'wb')\n",
    "pickle.dump(shoe_data,outfile,protocol=2)\n",
    "outfile.close()"
   ]
  },
  {
   "cell_type": "code",
   "execution_count": null,
   "metadata": {},
   "outputs": [],
   "source": [
    "print(\"Reading\")\n",
    "file_1 = open(\"C:\\\\Users\\\\Abhishek\\\\Desktop\\\\ChatBot\\\\data\\\\norm_shoes_full_1\",'rb')\n",
    "data_1=pickle.load(file_1)\n",
    "file_1.close()\n",
    "print(\"converting\")\n",
    "outfile = open(\"C:\\\\Users\\\\Abhishek\\\\Desktop\\\\ChatBot\\\\data\\\\norm_shoe_pickle_full_prot2\",'wb')\n",
    "pickle.dump(data_1,outfile,protocol=2)\n",
    "outfile.close()\n",
    "print(\"converted\")"
   ]
  },
  {
   "cell_type": "code",
   "execution_count": null,
   "metadata": {},
   "outputs": [],
   "source": [
    "plt.imshow(data_1[9])"
   ]
  },
  {
   "cell_type": "code",
   "execution_count": null,
   "metadata": {
    "scrolled": true
   },
   "outputs": [],
   "source": [
    "print(\"Reading...\")\n",
    "file_1 = open(\"C:\\\\Users\\\\Abhishek\\\\Desktop\\\\ChatBot\\\\data\\\\norm_shoe_pickle_full\",'rb')\n",
    "data_1=pickle.load(file_1)\n",
    "file_1.close()\n",
    "print(\"Read.\")"
   ]
  },
  {
   "cell_type": "code",
   "execution_count": null,
   "metadata": {},
   "outputs": [],
   "source": []
  }
 ],
 "metadata": {
  "kernelspec": {
   "display_name": "Python [conda env:carnd-term1]",
   "language": "python",
   "name": "conda-env-carnd-term1-py"
  },
  "language_info": {
   "codemirror_mode": {
    "name": "ipython",
    "version": 3
   },
   "file_extension": ".py",
   "mimetype": "text/x-python",
   "name": "python",
   "nbconvert_exporter": "python",
   "pygments_lexer": "ipython3",
   "version": "3.5.5"
  },
  "widgets": {
   "state": {},
   "version": "1.1.2"
  }
 },
 "nbformat": 4,
 "nbformat_minor": 2
}
