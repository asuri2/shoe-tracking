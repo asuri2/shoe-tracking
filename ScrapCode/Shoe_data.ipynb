{
 "cells": [
  {
   "cell_type": "code",
   "execution_count": null,
   "metadata": {},
   "outputs": [],
   "source": [
    "import sys, os, glob\n",
    "import cv2\n",
    "import numpy as np\n",
    "import pickle\n",
    "import matplotlib.pyplot as plt\n",
    "%matplotlib inline"
   ]
  },
  {
   "cell_type": "code",
   "execution_count": null,
   "metadata": {},
   "outputs": [],
   "source": [
    "counter = 0\n",
    "root = 'C:\\\\Users\\\\Abhishek\\\\Desktop\\\\ChatBot\\\\poc\\\\ut-zap50k-images-square'\n",
    "data = []\n",
    "os.chdir(root)\n",
    "print(\"In:\",os.getcwd())\n",
    "for dirs1 in os.listdir(root):\n",
    "#     print(dirs1)\n",
    "    path1 = root+\"\\\\\"+dirs1\n",
    "    for dirs2 in os.listdir(path1):\n",
    "#         print(dirs2)\n",
    "        path2 = path1 + \"\\\\\" + dirs2\n",
    "        for dirs3 in os.listdir(path2):\n",
    "#             print(dirs3)\n",
    "            path3 = path2 + \"\\\\\" + dirs3\n",
    "            for jpg in os.listdir(path3):                \n",
    "#                 print(counter)\n",
    "                path4 = path3+\"\\\\\"+jpg\n",
    "                img = cv2.imread(path4)\n",
    "#                 print(img.shape)\n",
    "#                 img1=img[np.newaxis,:]\n",
    "#                 print(img.shape)\n",
    "#                 data[counter][0]=counter\n",
    "#                 data[counter][1]=np.copy(img)\n",
    "                if img is not None:\n",
    "                    counter = counter + 1\n",
    "                    data.append(img)\n",
    "#                 print(path3+\"\\\\\"+jpg)\n",
    "print(counter)"
   ]
  },
  {
   "cell_type": "code",
   "execution_count": null,
   "metadata": {},
   "outputs": [],
   "source": [
    "import matplotlib.pyplot as plt\n",
    "%matplotlib inline\n",
    "\n",
    "print(data[0].shape)\n",
    "plt.imshow(data[11484])"
   ]
  },
  {
   "cell_type": "code",
   "execution_count": null,
   "metadata": {},
   "outputs": [],
   "source": [
    "data1 = data[0][np.newaxis,:]\n",
    "# print(data1.shape)\n",
    "for i in range(1,500):\n",
    "    print(i)\n",
    "    if data[0].shape==data[i].shape:\n",
    "        img=data[i][np.newaxis,:]\n",
    "#         print(img.shape)\n",
    "        data1=np.vstack((data1,img))\n",
    "print(data1.shape)\n",
    "outfile = open(\"C:\\\\Users\\\\Abhishek\\\\Desktop\\\\ChatBot\\\\poc\\\\dump\",'wb')\n",
    "pickle.dump(data1,outfile)\n",
    "outfile.close()"
   ]
  },
  {
   "cell_type": "code",
   "execution_count": null,
   "metadata": {},
   "outputs": [],
   "source": [
    "counter = 0\n",
    "filename = 'shoes'\n",
    "batch_number = 1\n",
    "for j in range(0,len(data)):      \n",
    "    print(\"making batch : \",batch_number)\n",
    "    print(\"record number : \",counter)\n",
    "    if counter < len(data) and data[0].shape==data[counter].shape:\n",
    "        data1 = data[counter][np.newaxis,:]\n",
    "        counter=counter+1\n",
    "        for i in range(1,2000):\n",
    "#             print(i)\n",
    "#             print(counter)\n",
    "            if counter < len(data) and data[0].shape==data[counter].shape:\n",
    "                img=data[counter][np.newaxis,:]\n",
    "            #         print(img.shape)\n",
    "                data1=np.vstack((data1,img))\n",
    "            counter = counter + 1\n",
    "        outfile = open(\"C:\\\\Users\\\\Abhishek\\\\Desktop\\\\ChatBot\\\\poc\\\\\"+filename+\"_\"+str(batch_number),'wb')\n",
    "        batch_number = batch_number + 1\n",
    "        pickle.dump(data1,outfile)\n",
    "        outfile.close()\n",
    "        print(data1.shape)"
   ]
  },
  {
   "cell_type": "code",
   "execution_count": null,
   "metadata": {},
   "outputs": [],
   "source": [
    "#Stacking all the pickle files\n",
    "filename = 'shoes'\n",
    "initfile = open(\"C:\\\\Users\\\\Abhishek\\\\Desktop\\\\ChatBot\\\\poc\\\\\"+filename+\"_13\",'rb')\n",
    "data_f=pickle.load(initfile)\n",
    "print(data_f.shape)\n",
    "for j in range(14, 27, 1):\n",
    "    infile = open(\"C:\\\\Users\\\\Abhishek\\\\Desktop\\\\ChatBot\\\\poc\\\\\"+filename+\"_\"+str(j),'rb')\n",
    "    dt = pickle.load(infile)\n",
    "    data_f=np.vstack((data_f,dt))\n",
    "    print(data_f.shape)\n",
    "\n",
    "np.random.shuffle(data_f)\n",
    "print(data_f.shape)\n",
    "full_datafile = \"shoes_full_1\"\n",
    "outfile = open(\"C:\\\\Users\\\\Abhishek\\\\Desktop\\\\ChatBot\\\\poc\\\\\"+full_datafile,'wb')\n",
    "pickle.dump(data_f,outfile)\n",
    "outfile.close()"
   ]
  },
  {
   "cell_type": "code",
   "execution_count": null,
   "metadata": {},
   "outputs": [],
   "source": [
    "file_1 = open(\"C:\\\\Users\\\\Abhishek\\\\Desktop\\\\ChatBot\\\\poc\\\\shoes_full\",'rb')\n",
    "data_1=pickle.load(file_1)\n",
    "file_1.close()\n",
    "file_2 = open(\"C:\\\\Users\\\\Abhishek\\\\Desktop\\\\ChatBot\\\\poc\\\\shoes_full_1\",'rb')\n",
    "data_2=pickle.load(file_2)\n",
    "file_2.close()\n",
    "print(\"Stacking...\")\n",
    "shoe_data = np.vstack((data_1,data_2))\n",
    "print(shoe_data.shape)\n",
    "outfile = open(\"C:\\\\Users\\\\Abhishek\\\\Desktop\\\\ChatBot\\\\poc\\\\shoe_pickle_full\",'wb')\n",
    "pickle.dump(shoe_data,outfile)\n",
    "outfile.close()"
   ]
  },
  {
   "cell_type": "code",
   "execution_count": null,
   "metadata": {},
   "outputs": [],
   "source": [
    "plt.imshow(data[8500])\n",
    "print(data_1.shape)"
   ]
  },
  {
   "cell_type": "code",
   "execution_count": null,
   "metadata": {},
   "outputs": [],
   "source": [
    "plt.imshow(shoe_data[0])"
   ]
  },
  {
   "cell_type": "code",
   "execution_count": null,
   "metadata": {},
   "outputs": [],
   "source": [
    "plt.imshow(data_2[500])"
   ]
  },
  {
   "cell_type": "code",
   "execution_count": null,
   "metadata": {},
   "outputs": [],
   "source": []
  }
 ],
 "metadata": {
  "kernelspec": {
   "display_name": "Python [conda env:carnd-term1]",
   "language": "python",
   "name": "conda-env-carnd-term1-py"
  },
  "language_info": {
   "codemirror_mode": {
    "name": "ipython",
    "version": 3
   },
   "file_extension": ".py",
   "mimetype": "text/x-python",
   "name": "python",
   "nbconvert_exporter": "python",
   "pygments_lexer": "ipython3",
   "version": "3.5.5"
  },
  "widgets": {
   "state": {},
   "version": "1.1.2"
  }
 },
 "nbformat": 4,
 "nbformat_minor": 2
}
