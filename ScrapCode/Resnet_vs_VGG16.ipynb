{
 "cells": [
  {
   "cell_type": "code",
   "execution_count": 1,
   "metadata": {},
   "outputs": [
    {
     "name": "stderr",
     "output_type": "stream",
     "text": [
      "Using TensorFlow backend.\n"
     ]
    }
   ],
   "source": [
    "from keras.preprocessing import image\n",
    "from keras.applications.vgg16 import vgg16\n",
    "# from keras.applications.vgg16 import preprocess_input\n",
    "# from keras.applications.vgg16 import decode_predictions\n",
    "import numpy as np\n",
    "\n",
    "from scipy.spatial import distance\n",
    "from keras.models import Model\n",
    "from keras.applications import resnet50\n",
    "import cv2\n",
    "from random import shuffle"
   ]
  },
  {
   "cell_type": "code",
   "execution_count": 4,
   "metadata": {},
   "outputs": [
    {
     "name": "stdout",
     "output_type": "stream",
     "text": [
      "In: C:\\Users\\Abhishek\\Desktop\\ChatBot\\poc\\ut-zap50k-images-square\n",
      "12834\n"
     ]
    }
   ],
   "source": [
    "# Creating data\n",
    "import os\n",
    "\n",
    "counter = 0\n",
    "root = 'C:\\\\Users\\\\Abhishek\\\\Desktop\\\\ChatBot\\\\poc\\\\ut-zap50k-images-square'\n",
    "data = []\n",
    "data_i = []\n",
    "os.chdir(root)\n",
    "print(\"In:\",os.getcwd())\n",
    "for dirs1 in os.listdir(root):\n",
    "    if counter < 100:\n",
    "    #     print(dirs1)\n",
    "        path1 = root+\"\\\\\"+dirs1\n",
    "        for dirs2 in os.listdir(path1):\n",
    "    #         print(dirs2)\n",
    "            path2 = path1 + \"\\\\\" + dirs2\n",
    "            for dirs3 in os.listdir(path2):\n",
    "    #             print(dirs3)\n",
    "                path3 = path2 + \"\\\\\" + dirs3\n",
    "                for jpg in os.listdir(path3):                \n",
    "    #                 print(counter)\n",
    "                    path4 = path3+\"\\\\\"+jpg\n",
    "                    img = image.load_img(path4, target_size=(224, 224))\n",
    "                    img_1 = cv2.resize(img, (0,0), fx=0.5, fy=0.5) \n",
    "    #                 print(img.shape)\n",
    "    #                 img1=img[np.newaxis,:]\n",
    "    #                 print(img.shape)\n",
    "    #                 data[counter][0]=counter\n",
    "    #                 data[counter][1]=np.copy(img)\n",
    "                    if img is not None:\n",
    "#                         img = cv2.resize(img, (56, 56))\n",
    "                        img_1=img.astype('float32')\n",
    "                        img_1=img_1/255\n",
    "    #                     img = image.load_img(img_path, target_size=(224, 224))\n",
    "                        x = image.img_to_array(img)\n",
    "                        counter = counter + 1\n",
    "                        data.append(x)\n",
    "                        data_1.append(img_1)\n",
    "    #                 print(path3+\"\\\\\"+jpg)\n",
    "print(counter)\n",
    "shuffle(data)\n",
    "print(len(data))\n",
    "print(len(data_1))"
   ]
  },
  {
   "cell_type": "code",
   "execution_count": 12,
   "metadata": {},
   "outputs": [
    {
     "name": "stdout",
     "output_type": "stream",
     "text": [
      "11\n",
      "(224, 224, 3)\n"
     ]
    }
   ],
   "source": [
    "data_10 = [cv2.flip(data[11],1)]\n",
    "for i in range(10):\n",
    "    data_10.append(data[i])\n",
    "print(len(data_10))\n",
    "print(data_10[5].shape)"
   ]
  },
  {
   "cell_type": "code",
   "execution_count": 13,
   "metadata": {},
   "outputs": [
    {
     "name": "stdout",
     "output_type": "stream",
     "text": [
      "(1, 2048)\n",
      "(1, 2048)\n",
      "(1, 2048)\n",
      "(1, 2048)\n",
      "(1, 2048)\n",
      "(1, 2048)\n",
      "(1, 2048)\n",
      "(1, 2048)\n",
      "(1, 2048)\n",
      "(1, 2048)\n",
      "(1, 2048)\n",
      "11\n",
      "(2048,)\n"
     ]
    }
   ],
   "source": [
    "# Resnet\n",
    "model = resnet50.ResNet50(weights='imagenet', include_top=False, pooling='avg')\n",
    "features_vec=[]\n",
    "for img in data_10:\n",
    "    img = np.expand_dims(img, axis=0)\n",
    "    vec = model.predict(img)\n",
    "    print(vec.shape)\n",
    "    features_vec.append(vec[0])\n",
    "print(len(features_vec))\n",
    "print(features_vec[0].shape)"
   ]
  },
  {
   "cell_type": "code",
   "execution_count": null,
   "metadata": {},
   "outputs": [],
   "source": []
  }
 ],
 "metadata": {
  "kernelspec": {
   "display_name": "Python [conda env:carnd-term1]",
   "language": "python",
   "name": "conda-env-carnd-term1-py"
  },
  "language_info": {
   "codemirror_mode": {
    "name": "ipython",
    "version": 3
   },
   "file_extension": ".py",
   "mimetype": "text/x-python",
   "name": "python",
   "nbconvert_exporter": "python",
   "pygments_lexer": "ipython3",
   "version": "3.5.5"
  },
  "widgets": {
   "state": {},
   "version": "1.1.2"
  }
 },
 "nbformat": 4,
 "nbformat_minor": 2
}
